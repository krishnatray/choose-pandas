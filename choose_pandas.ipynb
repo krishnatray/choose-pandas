{
 "metadata": {
  "name": "",
  "signature": "sha256:b22d2d7145d01938cd7fe4df73a8e3adbadba1f3141b04374f0946fd3beaaf32"
 },
 "nbformat": 3,
 "nbformat_minor": 0,
 "worksheets": [
  {
   "cells": [
    {
     "cell_type": "markdown",
     "metadata": {},
     "source": [
      "## Choose Pandas!\n",
      "#### PyCon 2014 Lightning Talk"
     ]
    },
    {
     "cell_type": "code",
     "collapsed": false,
     "input": [
      "%pylab inline\n",
      "import pandas as pd\n",
      "\n",
      "car_eval = pd.read_csv('car_data.txt')\n",
      "car_eval.head()"
     ],
     "language": "python",
     "metadata": {},
     "outputs": [
      {
       "output_type": "stream",
       "stream": "stdout",
       "text": [
        "Populating the interactive namespace from numpy and matplotlib\n"
       ]
      },
      {
       "html": [
        "<div style=\"max-height:1000px;max-width:1500px;overflow:auto;\">\n",
        "<table border=\"1\" class=\"dataframe\">\n",
        "  <thead>\n",
        "    <tr style=\"text-align: right;\">\n",
        "      <th></th>\n",
        "      <th>buying</th>\n",
        "      <th>maint</th>\n",
        "      <th>doors</th>\n",
        "      <th>persons</th>\n",
        "      <th>lug_boot</th>\n",
        "      <th>safety</th>\n",
        "      <th>class</th>\n",
        "    </tr>\n",
        "  </thead>\n",
        "  <tbody>\n",
        "    <tr>\n",
        "      <th>0</th>\n",
        "      <td> vhigh</td>\n",
        "      <td> vhigh</td>\n",
        "      <td> 2</td>\n",
        "      <td> 2</td>\n",
        "      <td> small</td>\n",
        "      <td>  low</td>\n",
        "      <td> unacc</td>\n",
        "    </tr>\n",
        "    <tr>\n",
        "      <th>1</th>\n",
        "      <td> vhigh</td>\n",
        "      <td> vhigh</td>\n",
        "      <td> 2</td>\n",
        "      <td> 2</td>\n",
        "      <td> small</td>\n",
        "      <td>  med</td>\n",
        "      <td> unacc</td>\n",
        "    </tr>\n",
        "    <tr>\n",
        "      <th>2</th>\n",
        "      <td> vhigh</td>\n",
        "      <td> vhigh</td>\n",
        "      <td> 2</td>\n",
        "      <td> 2</td>\n",
        "      <td> small</td>\n",
        "      <td> high</td>\n",
        "      <td> unacc</td>\n",
        "    </tr>\n",
        "    <tr>\n",
        "      <th>3</th>\n",
        "      <td> vhigh</td>\n",
        "      <td> vhigh</td>\n",
        "      <td> 2</td>\n",
        "      <td> 2</td>\n",
        "      <td>   med</td>\n",
        "      <td>  low</td>\n",
        "      <td> unacc</td>\n",
        "    </tr>\n",
        "    <tr>\n",
        "      <th>4</th>\n",
        "      <td> vhigh</td>\n",
        "      <td> vhigh</td>\n",
        "      <td> 2</td>\n",
        "      <td> 2</td>\n",
        "      <td>   med</td>\n",
        "      <td>  med</td>\n",
        "      <td> unacc</td>\n",
        "    </tr>\n",
        "  </tbody>\n",
        "</table>\n",
        "<p>5 rows \u00d7 7 columns</p>\n",
        "</div>"
       ],
       "metadata": {},
       "output_type": "pyout",
       "prompt_number": 1,
       "text": [
        "  buying  maint  doors  persons lug_boot safety  class\n",
        "0  vhigh  vhigh      2        2    small    low  unacc\n",
        "1  vhigh  vhigh      2        2    small    med  unacc\n",
        "2  vhigh  vhigh      2        2    small   high  unacc\n",
        "3  vhigh  vhigh      2        2      med    low  unacc\n",
        "4  vhigh  vhigh      2        2      med    med  unacc\n",
        "\n",
        "[5 rows x 7 columns]"
       ]
      }
     ],
     "prompt_number": 1
    },
    {
     "cell_type": "code",
     "collapsed": false,
     "input": [
      "pivoted_car = car_eval.pivot_table(values='doors', \n",
      "                                   rows='lug_boot', \n",
      "                                   cols='class', \n",
      "                                   aggfunc='mean')\n",
      "pivoted_car"
     ],
     "language": "python",
     "metadata": {},
     "outputs": [
      {
       "html": [
        "<div style=\"max-height:1000px;max-width:1500px;overflow:auto;\">\n",
        "<table border=\"1\" class=\"dataframe\">\n",
        "  <thead>\n",
        "    <tr style=\"text-align: right;\">\n",
        "      <th>class</th>\n",
        "      <th>acc</th>\n",
        "      <th>good</th>\n",
        "      <th>unacc</th>\n",
        "      <th>vgood</th>\n",
        "    </tr>\n",
        "    <tr>\n",
        "      <th>lug_boot</th>\n",
        "      <th></th>\n",
        "      <th></th>\n",
        "      <th></th>\n",
        "      <th></th>\n",
        "    </tr>\n",
        "  </thead>\n",
        "  <tbody>\n",
        "    <tr>\n",
        "      <th>big</th>\n",
        "      <td> 3.500000</td>\n",
        "      <td> 3.500000</td>\n",
        "      <td> 3.500000</td>\n",
        "      <td> 3.5</td>\n",
        "    </tr>\n",
        "    <tr>\n",
        "      <th>med</th>\n",
        "      <td> 3.577778</td>\n",
        "      <td> 3.500000</td>\n",
        "      <td> 3.428571</td>\n",
        "      <td> 4.2</td>\n",
        "    </tr>\n",
        "    <tr>\n",
        "      <th>small</th>\n",
        "      <td> 3.714286</td>\n",
        "      <td> 3.714286</td>\n",
        "      <td> 3.440000</td>\n",
        "      <td> NaN</td>\n",
        "    </tr>\n",
        "  </tbody>\n",
        "</table>\n",
        "<p>3 rows \u00d7 4 columns</p>\n",
        "</div>"
       ],
       "metadata": {},
       "output_type": "pyout",
       "prompt_number": 2,
       "text": [
        "class          acc      good     unacc  vgood\n",
        "lug_boot                                     \n",
        "big       3.500000  3.500000  3.500000    3.5\n",
        "med       3.577778  3.500000  3.428571    4.2\n",
        "small     3.714286  3.714286  3.440000    NaN\n",
        "\n",
        "[3 rows x 4 columns]"
       ]
      }
     ],
     "prompt_number": 2
    },
    {
     "cell_type": "code",
     "collapsed": false,
     "input": [
      "class_counts = car_eval['class'].value_counts()\n",
      "class_counts.plot(kind='bar', rot=0)"
     ],
     "language": "python",
     "metadata": {},
     "outputs": [
      {
       "metadata": {},
       "output_type": "pyout",
       "prompt_number": 3,
       "text": [
        "<matplotlib.axes.AxesSubplot at 0x107da2a50>"
       ]
      },
      {
       "metadata": {},
       "output_type": "display_data",
       "png": "[encoded data removed]",
       "text": [
        "<matplotlib.figure.Figure at 0x107daa650>"
       ]
      }
     ],
     "prompt_number": 3
    }
   ],
   "metadata": {}
  }
 ]
}